{
 "cells": [
  {
   "cell_type": "code",
   "execution_count": 1,
   "metadata": {},
   "outputs": [
    {
     "ename": "ModuleNotFoundError",
     "evalue": "No module named 'tensorflow'",
     "output_type": "error",
     "traceback": [
      "\u001b[0;31m---------------------------------------------------------------------------\u001b[0m",
      "\u001b[0;31mModuleNotFoundError\u001b[0m                       Traceback (most recent call last)",
      "Cell \u001b[0;32mIn[1], line 5\u001b[0m\n\u001b[1;32m      3\u001b[0m \u001b[38;5;28;01mimport\u001b[39;00m \u001b[38;5;21;01mre\u001b[39;00m\n\u001b[1;32m      4\u001b[0m \u001b[38;5;28;01mimport\u001b[39;00m \u001b[38;5;21;01mnumpy\u001b[39;00m \u001b[38;5;28;01mas\u001b[39;00m \u001b[38;5;21;01mnp\u001b[39;00m\n\u001b[0;32m----> 5\u001b[0m \u001b[38;5;28;01mfrom\u001b[39;00m \u001b[38;5;21;01mtensorflow\u001b[39;00m\u001b[38;5;21;01m.\u001b[39;00m\u001b[38;5;21;01mkeras\u001b[39;00m\u001b[38;5;21;01m.\u001b[39;00m\u001b[38;5;21;01mpreprocessing\u001b[39;00m\u001b[38;5;21;01m.\u001b[39;00m\u001b[38;5;21;01mtext\u001b[39;00m \u001b[38;5;28;01mimport\u001b[39;00m Tokenizer\n\u001b[1;32m      6\u001b[0m \u001b[38;5;28;01mfrom\u001b[39;00m \u001b[38;5;21;01mtensorflow\u001b[39;00m\u001b[38;5;21;01m.\u001b[39;00m\u001b[38;5;21;01mkeras\u001b[39;00m\u001b[38;5;21;01m.\u001b[39;00m\u001b[38;5;21;01mpreprocessing\u001b[39;00m\u001b[38;5;21;01m.\u001b[39;00m\u001b[38;5;21;01msequence\u001b[39;00m \u001b[38;5;28;01mimport\u001b[39;00m pad_sequences\n\u001b[1;32m      7\u001b[0m \u001b[38;5;28;01mfrom\u001b[39;00m \u001b[38;5;21;01mtensorflow\u001b[39;00m\u001b[38;5;21;01m.\u001b[39;00m\u001b[38;5;21;01mkeras\u001b[39;00m\u001b[38;5;21;01m.\u001b[39;00m\u001b[38;5;21;01mapplications\u001b[39;00m \u001b[38;5;28;01mimport\u001b[39;00m ResNet50\n",
      "\u001b[0;31mModuleNotFoundError\u001b[0m: No module named 'tensorflow'"
     ]
    }
   ],
   "source": [
    "import pandas as pd\n",
    "import os\n",
    "import re\n",
    "import numpy as np\n",
    "from tensorflow.keras.preprocessing.text import Tokenizer\n",
    "from tensorflow.keras.preprocessing.sequence import pad_sequences\n",
    "from tensorflow.keras.applications import ResNet50\n",
    "from tensorflow.keras.applications.resnet import preprocess_input\n",
    "from tensorflow.keras.preprocessing.image import load_img, img_to_array\n",
    "from tensorflow.keras.models import Model, load_model\n",
    "from tensorflow.keras.layers import Input, Dense, Embedding, LSTM, Concatenate\n",
    "import pickle\n",
    "\n",
    "csv_file = \"captions.csv\"\n",
    "df = pd.read_csv(csv_file)\n",
    "\n",
    "def clean_caption(caption):\n",
    "    caption = caption.lower()\n",
    "    caption = re.sub(r'\\b(figure|fig)\\s*\\d+(\\.\\d+)?', '', caption, flags=re.IGNORECASE)\n",
    "    caption = re.sub(r\"[^a-z0-9A-Z\\s]\", \"\", caption)\n",
    "    caption = re.sub(r\"\\s+\", \" \", caption).strip()\n",
    "    return caption\n",
    "\n",
    "\n",
    "df['processed_caption'] = df['full_caption'].apply(clean_caption)\n",
    "\n",
    "\n",
    "def preprocess_captions(df):\n",
    "    df['processed_caption'] = df['processed_caption'].apply(\n",
    "        lambda x: f\"<start> {x.lower()} <end>\")\n",
    "    return df\n",
    "\n",
    "\n",
    "df = preprocess_captions(df)\n",
    "print(df[\"processed_caption\"])\n",
    "\n",
    "tokenizer = Tokenizer(oov_token=\"<OOV>\", filters='!\"#$%&()*+,-./:;<=>?@[\\\\]^_`{|}~\\t\\n')\n",
    "\n",
    "tokenizer.fit_on_texts([\"<start>\",\"<end>\"])\n",
    "tokenizer.fit_on_texts(df['processed_caption'])\n",
    "\n",
    "if \"<start>\" not in tokenizer.word_index:\n",
    "    tokenizer.word_index[\"<start>\"] = len(tokenizer.word_index) + 1\n",
    "if \"<end>\" not in tokenizer.word_index:\n",
    "    tokenizer.word_index[\"<end>\"] = len(tokenizer.word_index) + 1\n",
    "\n",
    "tokenizer.index_word[tokenizer.word_index[\"<start>\"]] = \"<start>\"\n",
    "tokenizer.index_word[tokenizer.word_index[\"<end>\"]] = \"<end>\""
   ]
  },
  {
   "cell_type": "code",
   "execution_count": null,
   "metadata": {},
   "outputs": [],
   "source": [
    "print(\"<start> token index:\", tokenizer.word_index.get(\"<start>\"))\n",
    "print(\"<end> token index:\", tokenizer.word_index.get(\"<end>\"))"
   ]
  },
  {
   "cell_type": "code",
   "execution_count": null,
   "metadata": {},
   "outputs": [],
   "source": [
    "with open(\"tokenizer.pkl\", \"wb\") as f:\n",
    "    pickle.dump(tokenizer, f)\n",
    "\n",
    "# Pad captions\n",
    "max_caption_length = 250\n",
    "sequences = tokenizer.texts_to_sequences(df['processed_caption'])\n",
    "padded_captions = pad_sequences(\n",
    "    sequences, maxlen=max_caption_length, padding='post')\n",
    "\n",
    "# Vocabulary size\n",
    "vocab_size = len(tokenizer.word_index) + 1\n",
    "print(f\"Vocabulary size: {vocab_size}\")"
   ]
  },
  {
   "cell_type": "code",
   "execution_count": null,
   "metadata": {},
   "outputs": [],
   "source": [
    "# ResNet50 for feature extraction\n",
    "resnet = ResNet50(weights=\"imagenet\", include_top=False, pooling=\"avg\")\n",
    "\n",
    "image_folder = \"ImageList/\"\n",
    "image_features = {}\n",
    "\n",
    "for image_id in df['imageid'].astype(str).unique():\n",
    "    image_path = os.path.join(image_folder, f\"{image_id}.png\")\n",
    "    if os.path.exists(image_path):\n",
    "        img = load_img(image_path, target_size=(224, 224))\n",
    "        img_array = img_to_array(img)\n",
    "        img_array = np.expand_dims(img_array, axis=0)\n",
    "        img_array = preprocess_input(img_array)\n",
    "        features = resnet.predict(img_array)\n",
    "        image_features[image_id] = features[0]\n",
    "    else:\n",
    "        print(f\"Image {image_id}.png not found in {image_folder}.\")\n",
    "\n",
    "np.save(\"image_features.npy\", image_features)"
   ]
  },
  {
   "cell_type": "code",
   "execution_count": null,
   "metadata": {},
   "outputs": [],
   "source": [
    "def prepare_data(image_features, captions, tokenizer, max_length):\n",
    "    X1, X2, y = [], [], []\n",
    "    for _, row in captions.iterrows():\n",
    "        image_id, caption = str(row['imageid']), row['processed_caption']\n",
    "        if image_id in image_features:\n",
    "            image_feature = image_features[image_id]\n",
    "            seq = tokenizer.texts_to_sequences([caption])[0]\n",
    "            for i in range(1, len(seq)):\n",
    "                in_seq, out_seq = seq[:i], seq[i]\n",
    "                in_seq = pad_sequences([in_seq], maxlen=max_length)[0]\n",
    "                X1.append(image_feature)\n",
    "                X2.append(in_seq)\n",
    "                y.append(out_seq)\n",
    "    return np.array(X1), np.array(X2), np.array(y)\n",
    "\n",
    "\n",
    "X1, X2, y = prepare_data(image_features, df, tokenizer, max_caption_length)"
   ]
  },
  {
   "cell_type": "code",
   "execution_count": null,
   "metadata": {},
   "outputs": [],
   "source": [
    "embedding_dim = 256\n",
    "lstm_units = 256\n",
    "\n",
    "image_input = Input(shape=(2048,), name=\"image_input\")\n",
    "image_dense = Dense(embedding_dim*2, activation=\"relu\")(image_input)\n",
    "image_dense = Dense(embedding_dim, activation=\"relu\")(image_input)\n",
    "\n",
    "\n",
    "caption_input = Input(shape=(max_caption_length,), name=\"caption_input\")\n",
    "caption_embedding = Embedding(input_dim=vocab_size, output_dim=embedding_dim, mask_zero=True)(caption_input)\n",
    "caption_lstm = LSTM(lstm_units, use_cudnn=False)(caption_embedding)\n",
    "\n",
    "\n",
    "combined = Concatenate()([image_dense, caption_lstm])\n",
    "decoder_output = Dense(vocab_size, activation=\"softmax\")(combined)\n",
    "\n",
    "model = Model(inputs=[image_input, caption_input], outputs=decoder_output)\n",
    "model.compile(optimizer=\"adam\", loss=\"sparse_categorical_crossentropy\")\n",
    "model.summary()"
   ]
  },
  {
   "cell_type": "code",
   "execution_count": null,
   "metadata": {},
   "outputs": [],
   "source": [
    "model.fit([X1, X2], y, batch_size=64, epochs=10, verbose=1)\n",
    "\n",
    "model.save(\"lvlm_model.keras\")"
   ]
  },
  {
   "cell_type": "code",
   "execution_count": null,
   "metadata": {},
   "outputs": [],
   "source": [
    "def generate_caption(image_feature, tokenizer, model, max_length):\n",
    "    if \"<start>\" not in tokenizer.word_index or \"<end>\" not in tokenizer.word_index:\n",
    "        raise ValueError(\n",
    "            \"Error: '<start>' or '<end>' token missing from tokenizer!\")\n",
    "\n",
    "    caption = [tokenizer.word_index[\"<start>\"]]\n",
    "    for _ in range(max_length):\n",
    "        sequence = pad_sequences([caption], maxlen=max_length, padding='post')\n",
    "        y_pred = model.predict(\n",
    "            [image_feature.reshape((1, 2048)), sequence], verbose=0)\n",
    "        y_pred = np.argmax(y_pred)\n",
    "        word = tokenizer.index_word.get(y_pred)\n",
    "        if word == \"<end>\" or word is None:\n",
    "            break\n",
    "        caption.append(y_pred)\n",
    "    return \" \".join([tokenizer.index_word[i] for i in caption if i > 0])\n",
    "\n",
    "\n",
    "model = load_model(\"lvlm_model.keras\")\n",
    "image_features = np.load(\"image_features.npy\", allow_pickle=True).item()\n",
    "\n",
    "print(\"ResNet50 + LSTM\")\n",
    "Resnet50_LSTM = None\n",
    "test_image_id = \"7\"  \n",
    "if test_image_id in image_features:\n",
    "    test_image_feature = image_features[test_image_id]\n",
    "    generated_caption = generate_caption(test_image_feature, tokenizer, model, max_caption_length)\n",
    "    Resnet50_LSTM = generate_caption\n",
    "    print(f\"Generated Caption for Image {test_image_id}: {generated_caption}\")\n",
    "else:\n",
    "    print(f\"Image ID {test_image_id} not found in features.\")"
   ]
  }
 ],
 "metadata": {
  "kernelspec": {
   "display_name": "nlp-torch",
   "language": "python",
   "name": "python3"
  },
  "language_info": {
   "codemirror_mode": {
    "name": "ipython",
    "version": 3
   },
   "file_extension": ".py",
   "mimetype": "text/x-python",
   "name": "python",
   "nbconvert_exporter": "python",
   "pygments_lexer": "ipython3",
   "version": "3.10.12"
  }
 },
 "nbformat": 4,
 "nbformat_minor": 2
}
